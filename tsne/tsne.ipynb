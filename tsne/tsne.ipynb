{
 "cells": [
  {
   "cell_type": "code",
   "execution_count": null,
   "id": "c2b709aa-5ee1-48a6-84ff-5dfbec507227",
   "metadata": {},
   "outputs": [],
   "source": [
    "import pandas as pd\n",
    "import numpy as np\n",
    "import collections\n",
    "import imblearn\n",
    "import typing"
   ]
  },
  {
   "cell_type": "code",
   "execution_count": null,
   "id": "0a54dcbb-e84d-4b92-ae82-6937373ade19",
   "metadata": {
    "tags": []
   },
   "outputs": [],
   "source": [
    "#Global variables\n",
    "methods = {'SMOTETomek': imblearn.combine.SMOTETomek, \n",
    "           'RandomOver': imblearn.over_sampling.RandomOverSampler,\n",
    "           'ADASYN': imblearn.over_sampling.ADASYN,\n",
    "           'RandomUnder': imblearn.under_sampling.RandomUnderSampler,\n",
    "           'none': None,}"
   ]
  },
  {
   "cell_type": "code",
   "execution_count": null,
   "id": "9f909b04-dcf5-4221-9bb1-281e7eb20729",
   "metadata": {},
   "outputs": [],
   "source": [
    "#Utils\n",
    "def value_or_zero(key: str, temp_dict: dict[str, int]) -> int:\n",
    "    '''Return value in a dictionary or zero if key not in dictionary.'''\n",
    "    return 0 if key not in temp_dict else temp_dict[key]"
   ]
  },
  {
   "cell_type": "code",
   "execution_count": null,
   "id": "d5465652-8c5e-4f51-99d6-0dd89041e768",
   "metadata": {
    "tags": []
   },
   "outputs": [],
   "source": [
    "#Word representations\n",
    "def bow(text: str, wordlist: list[str]) -> list[int]:\n",
    "    '''Represent text with bag of words.'''\n",
    "    return [int(word in text) for word in wordlist]\n",
    "\n",
    "def freq(text: str, wordlist: list[str]) -> list[float]:\n",
    "    '''Represent text with frequencies.''''\n",
    "    text = text.split()\n",
    "    counter = collections.Counter(text)\n",
    "    length = len(text)\n",
    "    return [value_or_zero(word, counter)/length for word in wordlist]\n",
    "\n",
    "def tfidf(text: str, word_dict: dict[str, float]) -> list[float]:\n",
    "    '''Represent text with TF-IDF'''\n",
    "    text = text.split()\n",
    "    counter = collections.Counter(text)\n",
    "    length = len(text)\n",
    "    frequencies = [value_or_zero(word, counter)/length for word in word_dict]\n",
    "    return [word_dict[word] * frequencies[i] for (i, word) in enumerate(word_dict)]"
   ]
  },
  {
   "cell_type": "code",
   "execution_count": null,
   "id": "27fa05b6-49ae-4aa7-8c33-e3de936d1e05",
   "metadata": {},
   "outputs": [],
   "source": [
    "#Primary visualization functions\n",
    "def visualize_rep_method(inputs: np.ndarray, outputs: np.ndarray) -> None:\n",
    "    '''Visualize a particular representation and resampling method.'''\n",
    "    pass\n",
    "\n",
    "def visualize_method(method: str, method_call: typing.Optional[callable]) -> None:\n",
    "    '''Visualize each representation using a resampling method.'''\n",
    "    pass"
   ]
  },
  {
   "cell_type": "code",
   "execution_count": null,
   "id": "fc445dd4-773a-4da9-808e-b73c90866e7c",
   "metadata": {},
   "outputs": [],
   "source": [
    "def main() -> None:\n",
    "    for method in methods:\n",
    "        visualize_method(method, methods[method])"
   ]
  },
  {
   "cell_type": "code",
   "execution_count": null,
   "id": "4eca2409-8e3b-47e0-afba-567ac216b9e4",
   "metadata": {},
   "outputs": [],
   "source": [
    "main()"
   ]
  }
 ],
 "metadata": {
  "kernelspec": {
   "display_name": "Python 3 (ipykernel)",
   "language": "python",
   "name": "python3"
  },
  "language_info": {
   "codemirror_mode": {
    "name": "ipython",
    "version": 3
   },
   "file_extension": ".py",
   "mimetype": "text/x-python",
   "name": "python",
   "nbconvert_exporter": "python",
   "pygments_lexer": "ipython3",
   "version": "3.10.9"
  }
 },
 "nbformat": 4,
 "nbformat_minor": 5
}
